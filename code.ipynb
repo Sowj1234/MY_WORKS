{
 "cells": [
  {
   "cell_type": "code",
   "execution_count": 36,
   "id": "942af6d1-1ea8-42ef-9a34-5fce6d01eb52",
   "metadata": {},
   "outputs": [],
   "source": [
    "import numpy as np\n",
    "import pandas as pd\n",
    "\n",
    "df=pd.read_csv(\"train.csv\")\n"
   ]
  },
  {
   "cell_type": "code",
   "execution_count": 37,
   "id": "a276c0f4-0080-4abb-9c82-e023ef92a474",
   "metadata": {},
   "outputs": [
    {
     "name": "stdout",
     "output_type": "stream",
     "text": [
      "<class 'pandas.core.frame.DataFrame'>\n",
      "RangeIndex: 495512 entries, 0 to 495511\n",
      "Data columns (total 15 columns):\n",
      " #   Column      Non-Null Count   Dtype  \n",
      "---  ------      --------------   -----  \n",
      " 0   City        495512 non-null  object \n",
      " 1   Datetime    495512 non-null  object \n",
      " 2   PM2.5       488851 non-null  float64\n",
      " 3   PM10        484693 non-null  float64\n",
      " 4   NO          469994 non-null  float64\n",
      " 5   NO2         489898 non-null  float64\n",
      " 6   NOx         485090 non-null  float64\n",
      " 7   NH3         474977 non-null  float64\n",
      " 8   CO          490495 non-null  float64\n",
      " 9   SO2         483354 non-null  float64\n",
      " 10  O3          471898 non-null  float64\n",
      " 11  Benzene     486993 non-null  float64\n",
      " 12  Toluene     484508 non-null  float64\n",
      " 13  Xylene      483352 non-null  float64\n",
      " 14  AQI_Bucket  495512 non-null  int64  \n",
      "dtypes: float64(12), int64(1), object(2)\n",
      "memory usage: 56.7+ MB\n"
     ]
    }
   ],
   "source": [
    "df.info()\n",
    "df=df.dropna()\n"
   ]
  },
  {
   "cell_type": "code",
   "execution_count": 38,
   "id": "2214aa7a-624b-4731-a898-b9d93c4e9877",
   "metadata": {},
   "outputs": [
    {
     "name": "stdout",
     "output_type": "stream",
     "text": [
      "<class 'pandas.core.frame.DataFrame'>\n",
      "Index: 362643 entries, 0 to 495511\n",
      "Data columns (total 15 columns):\n",
      " #   Column      Non-Null Count   Dtype  \n",
      "---  ------      --------------   -----  \n",
      " 0   City        362643 non-null  object \n",
      " 1   Datetime    362643 non-null  object \n",
      " 2   PM2.5       362643 non-null  float64\n",
      " 3   PM10        362643 non-null  float64\n",
      " 4   NO          362643 non-null  float64\n",
      " 5   NO2         362643 non-null  float64\n",
      " 6   NOx         362643 non-null  float64\n",
      " 7   NH3         362643 non-null  float64\n",
      " 8   CO          362643 non-null  float64\n",
      " 9   SO2         362643 non-null  float64\n",
      " 10  O3          362643 non-null  float64\n",
      " 11  Benzene     362643 non-null  float64\n",
      " 12  Toluene     362643 non-null  float64\n",
      " 13  Xylene      362643 non-null  float64\n",
      " 14  AQI_Bucket  362643 non-null  int64  \n",
      "dtypes: float64(12), int64(1), object(2)\n",
      "memory usage: 44.3+ MB\n"
     ]
    }
   ],
   "source": [
    "df.info()"
   ]
  },
  {
   "cell_type": "code",
   "execution_count": 39,
   "metadata": {},
   "outputs": [
    {
     "data": {
      "text/html": [
       "<div>\n",
       "<style scoped>\n",
       "    .dataframe tbody tr th:only-of-type {\n",
       "        vertical-align: middle;\n",
       "    }\n",
       "\n",
       "    .dataframe tbody tr th {\n",
       "        vertical-align: top;\n",
       "    }\n",
       "\n",
       "    .dataframe thead th {\n",
       "        text-align: right;\n",
       "    }\n",
       "</style>\n",
       "<table border=\"1\" class=\"dataframe\">\n",
       "  <thead>\n",
       "    <tr style=\"text-align: right;\">\n",
       "      <th></th>\n",
       "      <th>City</th>\n",
       "      <th>Datetime</th>\n",
       "      <th>PM2.5</th>\n",
       "      <th>PM10</th>\n",
       "      <th>NO</th>\n",
       "      <th>NO2</th>\n",
       "      <th>NOx</th>\n",
       "      <th>NH3</th>\n",
       "      <th>CO</th>\n",
       "      <th>SO2</th>\n",
       "      <th>O3</th>\n",
       "      <th>Benzene</th>\n",
       "      <th>Toluene</th>\n",
       "      <th>Xylene</th>\n",
       "      <th>AQI_Bucket</th>\n",
       "    </tr>\n",
       "  </thead>\n",
       "  <tbody>\n",
       "    <tr>\n",
       "      <th>0</th>\n",
       "      <td>Jaipur</td>\n",
       "      <td>2019-05-04 01:00:00</td>\n",
       "      <td>60.8</td>\n",
       "      <td>91.5</td>\n",
       "      <td>41.6</td>\n",
       "      <td>37.3</td>\n",
       "      <td>66.7</td>\n",
       "      <td>27.0</td>\n",
       "      <td>1.0</td>\n",
       "      <td>10.5</td>\n",
       "      <td>26.9</td>\n",
       "      <td>2.0</td>\n",
       "      <td>7.6</td>\n",
       "      <td>3.1</td>\n",
       "      <td>5</td>\n",
       "    </tr>\n",
       "    <tr>\n",
       "      <th>3</th>\n",
       "      <td>Kochi</td>\n",
       "      <td>2020-06-19 09:00:00</td>\n",
       "      <td>16.0</td>\n",
       "      <td>26.9</td>\n",
       "      <td>17.4</td>\n",
       "      <td>0.9</td>\n",
       "      <td>0.0</td>\n",
       "      <td>23.6</td>\n",
       "      <td>1.6</td>\n",
       "      <td>27.4</td>\n",
       "      <td>34.8</td>\n",
       "      <td>3.1</td>\n",
       "      <td>0.0</td>\n",
       "      <td>3.1</td>\n",
       "      <td>5</td>\n",
       "    </tr>\n",
       "    <tr>\n",
       "      <th>6</th>\n",
       "      <td>Thiruvananthapuram</td>\n",
       "      <td>2019-05-02 09:00:00</td>\n",
       "      <td>39.2</td>\n",
       "      <td>95.5</td>\n",
       "      <td>0.9</td>\n",
       "      <td>3.5</td>\n",
       "      <td>2.6</td>\n",
       "      <td>2.8</td>\n",
       "      <td>1.2</td>\n",
       "      <td>1.8</td>\n",
       "      <td>46.6</td>\n",
       "      <td>3.1</td>\n",
       "      <td>8.7</td>\n",
       "      <td>3.1</td>\n",
       "      <td>1</td>\n",
       "    </tr>\n",
       "    <tr>\n",
       "      <th>7</th>\n",
       "      <td>Talcher</td>\n",
       "      <td>2019-06-08 08:00:00</td>\n",
       "      <td>41.4</td>\n",
       "      <td>89.4</td>\n",
       "      <td>37.0</td>\n",
       "      <td>2.3</td>\n",
       "      <td>39.3</td>\n",
       "      <td>8.2</td>\n",
       "      <td>0.8</td>\n",
       "      <td>23.5</td>\n",
       "      <td>2.4</td>\n",
       "      <td>0.0</td>\n",
       "      <td>8.7</td>\n",
       "      <td>3.1</td>\n",
       "      <td>1</td>\n",
       "    </tr>\n",
       "    <tr>\n",
       "      <th>8</th>\n",
       "      <td>Guwahati</td>\n",
       "      <td>2020-02-08 19:00:00</td>\n",
       "      <td>175.8</td>\n",
       "      <td>309.9</td>\n",
       "      <td>49.4</td>\n",
       "      <td>37.5</td>\n",
       "      <td>121.3</td>\n",
       "      <td>18.2</td>\n",
       "      <td>1.2</td>\n",
       "      <td>12.4</td>\n",
       "      <td>18.2</td>\n",
       "      <td>1.5</td>\n",
       "      <td>8.7</td>\n",
       "      <td>3.1</td>\n",
       "      <td>4</td>\n",
       "    </tr>\n",
       "  </tbody>\n",
       "</table>\n",
       "</div>"
      ],
      "text/plain": [
       "                 City             Datetime  PM2.5   PM10    NO   NO2    NOx  \\\n",
       "0              Jaipur  2019-05-04 01:00:00   60.8   91.5  41.6  37.3   66.7   \n",
       "3               Kochi  2020-06-19 09:00:00   16.0   26.9  17.4   0.9    0.0   \n",
       "6  Thiruvananthapuram  2019-05-02 09:00:00   39.2   95.5   0.9   3.5    2.6   \n",
       "7             Talcher  2019-06-08 08:00:00   41.4   89.4  37.0   2.3   39.3   \n",
       "8            Guwahati  2020-02-08 19:00:00  175.8  309.9  49.4  37.5  121.3   \n",
       "\n",
       "    NH3   CO   SO2    O3  Benzene  Toluene  Xylene  AQI_Bucket  \n",
       "0  27.0  1.0  10.5  26.9      2.0      7.6     3.1           5  \n",
       "3  23.6  1.6  27.4  34.8      3.1      0.0     3.1           5  \n",
       "6   2.8  1.2   1.8  46.6      3.1      8.7     3.1           1  \n",
       "7   8.2  0.8  23.5   2.4      0.0      8.7     3.1           1  \n",
       "8  18.2  1.2  12.4  18.2      1.5      8.7     3.1           4  "
      ]
     },
     "execution_count": 39,
     "metadata": {},
     "output_type": "execute_result"
    }
   ],
   "source": [
    "df.head()"
   ]
  },
  {
   "cell_type": "code",
   "execution_count": 42,
   "metadata": {},
   "outputs": [
    {
     "data": {
      "text/plain": [
       "<bound method Series.unique of 0          0\n",
       "3          1\n",
       "6          2\n",
       "7          3\n",
       "8          4\n",
       "          ..\n",
       "495505    16\n",
       "495507    18\n",
       "495509    16\n",
       "495510     5\n",
       "495511    16\n",
       "Name: City, Length: 362643, dtype: int64>"
      ]
     },
     "execution_count": 42,
     "metadata": {},
     "output_type": "execute_result"
    }
   ],
   "source": [
    "city_label={k:i for i,k in enumerate(df['City'].unique(),0)} \n",
    "df['City']=df['City'].map(city_label)\n",
    "df['City'].unique"
   ]
  },
  {
   "cell_type": "code",
   "execution_count": 52,
   "metadata": {},
   "outputs": [],
   "source": [
    "#allocating features and labels\n",
    "x=df.iloc[:,2:13]\n",
    "y=df['AQI_Bucket']\n"
   ]
  },
  {
   "cell_type": "code",
   "execution_count": null,
   "metadata": {},
   "outputs": [],
   "source": []
  }
 ],
 "metadata": {
  "kernelspec": {
   "display_name": "GG_3600",
   "language": "python",
   "name": "python3"
  },
  "language_info": {
   "codemirror_mode": {
    "name": "ipython",
    "version": 3
   },
   "file_extension": ".py",
   "mimetype": "text/x-python",
   "name": "python",
   "nbconvert_exporter": "python",
   "pygments_lexer": "ipython3",
   "version": "3.9.18"
  }
 },
 "nbformat": 4,
 "nbformat_minor": 5
}
